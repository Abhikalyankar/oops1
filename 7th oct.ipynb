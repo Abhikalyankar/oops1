{
 "cells": [
  {
   "cell_type": "markdown",
   "id": "80ca9fd6-c18f-48a7-bb81-b6405941a5e5",
   "metadata": {},
   "source": [
    "# 7th Oct"
   ]
  },
  {
   "cell_type": "markdown",
   "id": "60177056-43b5-4a60-9989-a513e98fdd76",
   "metadata": {},
   "source": [
    "###  Bank Account Create a class representing a bank account with attributes like account number, account holder name, and balance. Implement methods to deposit and withdraw money from the account."
   ]
  },
  {
   "cell_type": "code",
   "execution_count": 3,
   "id": "009e401f-25cd-4bad-b6f9-4d893d752936",
   "metadata": {},
   "outputs": [
    {
     "name": "stdout",
     "output_type": "stream",
     "text": [
      "deposited 500. New balance is 1500.0\n",
      "Withdrew 200. New balance is 1300.0.\n",
      "account <bound method BankAccount.get_balance of <__main__.BankAccount object at 0x7f01ff1ab250>>\n"
     ]
    }
   ],
   "source": [
    "class BankAccount:\n",
    "    def __init__(self, account_number, account_holder_name, balance = 0.0):\n",
    "        self.account_number = account_number\n",
    "        self.account_holder_name = account_holder_name\n",
    "        self.balance = balance\n",
    "        \n",
    "    def deposit(self , amount):\n",
    "        if amount > 0:\n",
    "            self.balance += amount\n",
    "            print(f\"deposited {amount}. New balance is {self.balance}\")\n",
    "        else:\n",
    "            print(\"Deposit amount must be positive\")\n",
    "        \n",
    "    def withdraw(self, amount):\n",
    "        if amount > 0:\n",
    "            if amount <= self.balance:\n",
    "                self.balance -= amount\n",
    "                print(f\"Withdrew {amount}. New balance is {self.balance}.\")\n",
    "            else:\n",
    "                print(\"Insufficient funds.\")\n",
    "        else:\n",
    "            print(\"Withdrawal amount must be positive.\")\n",
    "            \n",
    "            \n",
    "    def get_balance(self):\n",
    "        return self.balance\n",
    "    \n",
    "account = BankAccount(\"123456789\",\"Abhi\",1000.0)\n",
    "account.deposit(500)\n",
    "account.withdraw(200)\n",
    "\n",
    "print(f\"account {account.get_balance}\")\n",
    "        "
   ]
  },
  {
   "cell_type": "code",
   "execution_count": null,
   "id": "1d9aea5b-5f40-4d83-a75d-561422f63390",
   "metadata": {},
   "outputs": [],
   "source": []
  },
  {
   "cell_type": "markdown",
   "id": "5a101336-44a4-49a6-bc7e-2085e58f34d0",
   "metadata": {},
   "source": [
    "### Employee Management Create a class representing an employee with attributes like employee ID, name, and salary. Implement methods to calculate the yearly bonus and display employee details.\n"
   ]
  },
  {
   "cell_type": "code",
   "execution_count": 7,
   "id": "d63e4377-28e2-41bd-9269-b57582d06c30",
   "metadata": {},
   "outputs": [
    {
     "name": "stdout",
     "output_type": "stream",
     "text": [
      "Employee ID E100\n",
      "Name Abhi\n",
      "salary1000\n",
      "100.0\n"
     ]
    }
   ],
   "source": [
    "class Employee:\n",
    "    def __init__(self, employee_id, name, salary):\n",
    "        self.employee_id = employee_id\n",
    "        self.name = name\n",
    "        self.salary = salary\n",
    "        \n",
    "    def calculate_bonus(self, bonus_percentage):\n",
    "        return self.salary * (bonus_percentage / 100)\n",
    "    \n",
    "    def display_details(self):\n",
    "        print(f\"Employee ID {self.employee_id}\")\n",
    "        print(f\"Name {self.name}\")\n",
    "        print(f\"salary{self.salary}\")\n",
    "        \n",
    "employee = Employee(\"E100\", \"Abhi\", 1000)\n",
    "employee.display_details()\n",
    "bonus = employee.calculate_bonus(10)\n",
    "\n",
    "print(bonus)\n",
    "    "
   ]
  },
  {
   "cell_type": "code",
   "execution_count": null,
   "id": "b0359aff-df33-4d5d-9148-1c735d0ea753",
   "metadata": {},
   "outputs": [],
   "source": []
  },
  {
   "cell_type": "markdown",
   "id": "a8c97b64-ae5e-4ac5-bcc4-2fefbbc170bd",
   "metadata": {},
   "source": [
    "### Vehicle Rental Create a class representing a vehicle rental system. Implement methods to rent a vehicle, return a vehicle, and display available vehicles."
   ]
  },
  {
   "cell_type": "code",
   "execution_count": 25,
   "id": "97ed1ec4-c0fc-412f-bd1e-580466235293",
   "metadata": {},
   "outputs": [
    {
     "name": "stdout",
     "output_type": "stream",
     "text": [
      "Available Vehicles:\n",
      "Car A\n",
      "Car B\n",
      "Bike A\n",
      "Vehicle Car A has been rented\n",
      "Available Vehicles:\n",
      "Car B\n",
      "Bike A\n",
      "Vehicle Car A has been returned\n",
      "Available Vehicles:\n",
      "Car B\n",
      "Bike A\n",
      "Car A\n"
     ]
    }
   ],
   "source": [
    "class VehicleRentalSystem:\n",
    "    def __init__(self):\n",
    "        self.available_vehicle = []\n",
    "        self.rented_vehicle = []\n",
    "        \n",
    "    def add_vehicle(self, vehicle):\n",
    "        self.available_vehicle.append(vehicle)\n",
    "        \n",
    "    def rent_vehicle(self, vehicle):\n",
    "        if vehicle in self.available_vehicle:\n",
    "            self.available_vehicle.remove(vehicle)\n",
    "            self.rented_vehicle.append(vehicle)\n",
    "            print(f\"Vehicle {vehicle} has been rented\")\n",
    "        else:\n",
    "            print(f\"Vehicle is not available for rent\")\n",
    "            \n",
    "    def return_vehicle(self, vehicle):\n",
    "        if vehicle in self.rented_vehicle:\n",
    "            self.rented_vehicle.remove(vehicle)\n",
    "            self.available_vehicle.append(vehicle)\n",
    "            print(f\"Vehicle {vehicle} has been returned\")\n",
    "        else:\n",
    "            print(f\"Vehicle is not rented\")\n",
    "            \n",
    "    def display_available_vehicle(self):\n",
    "        if self.available_vehicle:\n",
    "            print(\"Available Vehicles:\")\n",
    "            for vehicle in self.available_vehicle:\n",
    "                print(vehicle)\n",
    "        else:\n",
    "            print(\"No vehicles available for rent.\")\n",
    "            \n",
    "            \n",
    "vehicle_rental_system = VehicleRentalSystem()\n",
    "vehicle_rental_system.add_vehicle(\"Car A\")\n",
    "vehicle_rental_system.add_vehicle(\"Car B\")\n",
    "vehicle_rental_system.add_vehicle(\"Bike A\")\n",
    "\n",
    "vehicle_rental_system.display_available_vehicle()\n",
    "\n",
    "vehicle_rental_system.rent_vehicle(\"Car A\")\n",
    "vehicle_rental_system.display_available_vehicle()\n",
    "\n",
    "vehicle_rental_system.return_vehicle(\"Car A\")\n",
    "vehicle_rental_system.display_available_vehicle()"
   ]
  },
  {
   "cell_type": "code",
   "execution_count": null,
   "id": "d737e96f-538f-4f09-8b78-5a053ada697e",
   "metadata": {},
   "outputs": [],
   "source": []
  },
  {
   "cell_type": "markdown",
   "id": "b602c3d3-0b6f-4dc6-b9b0-ccc26392170d",
   "metadata": {},
   "source": [
    "### Library Catalog Create classes representing a library and a book. Implement methods to add books to the library, borrow books, and display available books.\n"
   ]
  },
  {
   "cell_type": "code",
   "execution_count": 26,
   "id": "7f2f0bba-eb15-493c-8c39-0a8e23f1b825",
   "metadata": {},
   "outputs": [
    {
     "name": "stdout",
     "output_type": "stream",
     "text": [
      "Added 1984 by George Orwell to the library.\n",
      "Added To Kill a Mockingbird by Harper Lee to the library.\n",
      "Added The Great Gatsby by F. Scott Fitzgerald to the library.\n",
      "Available Books:\n",
      "1984 by George Orwell\n",
      "To Kill a Mockingbird by Harper Lee\n",
      "The Great Gatsby by F. Scott Fitzgerald\n",
      "You have borrowed 1984 by George Orwell.\n",
      "Available Books:\n",
      "To Kill a Mockingbird by Harper Lee\n",
      "The Great Gatsby by F. Scott Fitzgerald\n",
      "You have returned 1984 by George Orwell.\n",
      "Available Books:\n",
      "1984 by George Orwell\n",
      "To Kill a Mockingbird by Harper Lee\n",
      "The Great Gatsby by F. Scott Fitzgerald\n"
     ]
    }
   ],
   "source": [
    "class Book:\n",
    "    def __init__(self, title, author):\n",
    "        self.title = title\n",
    "        self.author = author\n",
    "        self.is_borrowed = False\n",
    "\n",
    "    def __str__(self):\n",
    "        return f\"{self.title} by {self.author}\"\n",
    "\n",
    "class Library:\n",
    "    def __init__(self):\n",
    "        self.books = []\n",
    "\n",
    "    def add_book(self, book):\n",
    "        self.books.append(book)\n",
    "        print(f\"Added {book} to the library.\")\n",
    "\n",
    "    def borrow_book(self, title):\n",
    "        for book in self.books:\n",
    "            if book.title == title and not book.is_borrowed:\n",
    "                book.is_borrowed = True\n",
    "                print(f\"You have borrowed {book}.\")\n",
    "                return\n",
    "        print(f\"The book '{title}' is not available.\")\n",
    "\n",
    "    def return_book(self, title):\n",
    "        for book in self.books:\n",
    "            if book.title == title and book.is_borrowed:\n",
    "                book.is_borrowed = False\n",
    "                print(f\"You have returned {book}.\")\n",
    "                return\n",
    "        print(f\"The book '{title}' was not borrowed from this library.\")\n",
    "\n",
    "    def display_available_books(self):\n",
    "        available_books = [book for book in self.books if not book.is_borrowed]\n",
    "        if available_books:\n",
    "            print(\"Available Books:\")\n",
    "            for book in available_books:\n",
    "                print(book)\n",
    "        else:\n",
    "            print(\"No books available.\")\n",
    "\n",
    "# Example usage:\n",
    "library = Library()\n",
    "\n",
    "book1 = Book(\"1984\", \"George Orwell\")\n",
    "book2 = Book(\"To Kill a Mockingbird\", \"Harper Lee\")\n",
    "book3 = Book(\"The Great Gatsby\", \"F. Scott Fitzgerald\")\n",
    "\n",
    "library.add_book(book1)\n",
    "library.add_book(book2)\n",
    "library.add_book(book3)\n",
    "\n",
    "library.display_available_books()\n",
    "\n",
    "library.borrow_book(\"1984\")\n",
    "library.display_available_books()\n",
    "\n",
    "library.return_book(\"1984\")\n",
    "library.display_available_books()\n"
   ]
  },
  {
   "cell_type": "code",
   "execution_count": null,
   "id": "da1c62f3-50cc-44de-9ecc-74cec55c9d7b",
   "metadata": {},
   "outputs": [],
   "source": []
  },
  {
   "cell_type": "markdown",
   "id": "de1e85c8-b353-4a4d-9276-290bb3cdabf6",
   "metadata": {},
   "source": [
    "###  Product Inventory Create classes representing a product and an inventory system. Implement methods to add products to the inventory, update product quantity, and display available products."
   ]
  },
  {
   "cell_type": "code",
   "execution_count": 31,
   "id": "75559dad-44f0-499e-b5bb-2cf850b27f55",
   "metadata": {},
   "outputs": [
    {
     "name": "stdout",
     "output_type": "stream",
     "text": [
      "Added 1984 by George Orwell to the library.\n",
      "Added To Kill a Mockingbird by Harper Lee to the library.\n",
      "Added The Great Gatsby by F. Scott Fitzgerald to the library.\n",
      "Available Books:\n",
      "1984 by George Orwell\n",
      "To Kill a Mockingbird by Harper Lee\n",
      "The Great Gatsby by F. Scott Fitzgerald\n",
      "You have borrowed 1984 by George Orwell.\n",
      "Available Books:\n",
      "To Kill a Mockingbird by Harper Lee\n",
      "The Great Gatsby by F. Scott Fitzgerald\n",
      "You have returned 1984 by George Orwell.\n",
      "Available Books:\n",
      "1984 by George Orwell\n",
      "To Kill a Mockingbird by Harper Lee\n",
      "The Great Gatsby by F. Scott Fitzgerald\n"
     ]
    }
   ],
   "source": [
    "class Book:\n",
    "    def __init__(self, title, author):\n",
    "        self.title = title\n",
    "        self.author = author\n",
    "        self.is_borrowed = False\n",
    "\n",
    "    def __str__(self):\n",
    "        return f\"{self.title} by {self.author}\"\n",
    "\n",
    "class Library:\n",
    "    def __init__(self):\n",
    "        self.books = []\n",
    "\n",
    "    def add_book(self, book):\n",
    "        self.books.append(book)\n",
    "        print(f\"Added {book} to the library.\")\n",
    "\n",
    "    def borrow_book(self, title):\n",
    "        for book in self.books:\n",
    "            if book.title == title and not book.is_borrowed:\n",
    "                book.is_borrowed = True\n",
    "                print(f\"You have borrowed {book}.\")\n",
    "                return\n",
    "        print(f\"The book '{title}' is not available.\")\n",
    "\n",
    "    def return_book(self, title):\n",
    "        for book in self.books:\n",
    "            if book.title == title and book.is_borrowed:\n",
    "                book.is_borrowed = False\n",
    "                print(f\"You have returned {book}.\")\n",
    "                return\n",
    "        print(f\"The book '{title}' was not borrowed from this library.\")\n",
    "\n",
    "    def display_available_books(self):\n",
    "        available_books = [book for book in self.books if not book.is_borrowed]\n",
    "        if available_books:\n",
    "            print(\"Available Books:\")\n",
    "            for book in available_books:\n",
    "                print(book)\n",
    "        else:\n",
    "            print(\"No books available.\")\n",
    "\n",
    "# Example usage:\n",
    "library = Library()\n",
    "\n",
    "book1 = Book(\"1984\", \"George Orwell\")\n",
    "book2 = Book(\"To Kill a Mockingbird\", \"Harper Lee\")\n",
    "book3 = Book(\"The Great Gatsby\", \"F. Scott Fitzgerald\")\n",
    "\n",
    "library.add_book(book1)\n",
    "library.add_book(book2)\n",
    "library.add_book(book3)\n",
    "\n",
    "library.display_available_books()\n",
    "\n",
    "library.borrow_book(\"1984\")\n",
    "library.display_available_books()\n",
    "\n",
    "library.return_book(\"1984\")\n",
    "library.display_available_books()\n"
   ]
  },
  {
   "cell_type": "code",
   "execution_count": null,
   "id": "af75f353-bed9-4f62-bef1-52e4955bc108",
   "metadata": {},
   "outputs": [],
   "source": []
  },
  {
   "cell_type": "markdown",
   "id": "1281ce5b-346e-4603-a806-47d0af723223",
   "metadata": {},
   "source": [
    "### Shape Calculation Create a class representing a shape with attributes like length, width, and height. Implement methods to calculate the area and perimeter of the shape."
   ]
  },
  {
   "cell_type": "code",
   "execution_count": 51,
   "id": "40b212cc-b12a-41ee-8e6c-fb9231fa79e4",
   "metadata": {},
   "outputs": [
    {
     "name": "stdout",
     "output_type": "stream",
     "text": [
      "Shape with length 10 and width 5\n",
      "Area: 50\n",
      "Perimeter: 30\n"
     ]
    }
   ],
   "source": [
    "class Shape:\n",
    "    def __init__(self, length, width):\n",
    "        self.length = length\n",
    "        self.width = width\n",
    "        \n",
    "    def calculate_area(self):\n",
    "        return self.length * self.width\n",
    "    \n",
    "    def calculate_perimeter(self):\n",
    "        return 2 * (self.length + self.width)\n",
    "    \n",
    "    def display_shape_info(self):\n",
    "        print(f\"Shape with length {self.length} and width {self.width}\")\n",
    "        print(f\"Area: {self.calculate_area()}\")\n",
    "        print(f\"Perimeter: {self.calculate_perimeter()}\")\n",
    "        \n",
    "shape = Shape(10, 5)\n",
    "shape.display_shape_info()"
   ]
  },
  {
   "cell_type": "code",
   "execution_count": null,
   "id": "118a8248-5cec-4bdc-90b3-6d2ed75bb10e",
   "metadata": {},
   "outputs": [],
   "source": []
  },
  {
   "cell_type": "markdown",
   "id": "a9eb0e1d-a8fc-4457-8929-ab5658e5cc65",
   "metadata": {},
   "source": [
    "###  Student Management Create a class representing a student with attributes like student ID, name, and grades. Implement methods to calculate the average grade and display student details."
   ]
  },
  {
   "cell_type": "code",
   "execution_count": 59,
   "id": "137a5627-8eae-4626-b194-c44f23c23b3a",
   "metadata": {},
   "outputs": [
    {
     "name": "stdout",
     "output_type": "stream",
     "text": [
      "Student ID: S001\n",
      "Name: Alice Johnson\n",
      "Grades: [85, 90, 78]\n",
      "Average Grade: 84.33333333333333\n",
      "Student ID: S001\n",
      "Name: Alice Johnson\n",
      "Grades: [85, 90, 78, 92]\n",
      "Average Grade: 86.25\n"
     ]
    }
   ],
   "source": [
    "class Student:\n",
    "    def __init__(self, student_id, name, grades):\n",
    "        self.student_id = student_id\n",
    "        self.name = name\n",
    "        self.grades = grades\n",
    "        \n",
    "    def add_grade(self, grades):\n",
    "        self.grades.append(grades)\n",
    "        \n",
    "    def calculate_avg_grade(self):\n",
    "         if not self.grades:\n",
    "            return 0\n",
    "         return sum(self.grades) / len(self.grades)\n",
    "    \n",
    "    def display_student_details(self):\n",
    "        print(f\"Student ID: {self.student_id}\")\n",
    "        print(f\"Name: {self.name}\")\n",
    "        print(f\"Grades: {self.grades}\")\n",
    "        print(f\"Average Grade: {self.calculate_avg_grade()}\")\n",
    "        \n",
    "        \n",
    "student = Student(\"S001\", \"Alice Johnson\", [85, 90, 78])\n",
    "student.display_student_details()\n",
    "\n",
    "student.add_grade(92)\n",
    "student.display_student_details()"
   ]
  },
  {
   "cell_type": "code",
   "execution_count": null,
   "id": "69328eac-4b95-4d69-9cdc-ad4c64bdb070",
   "metadata": {},
   "outputs": [],
   "source": []
  },
  {
   "cell_type": "markdown",
   "id": "b9464f47-e31a-4cc8-af43-120a3cf19019",
   "metadata": {},
   "source": [
    "### Email Management Create a class representing an email with attributes like sender, recipient, and subject. Implement methods to send an email and display email details.\n"
   ]
  },
  {
   "cell_type": "code",
   "execution_count": 60,
   "id": "a4969952-44c6-42e2-8271-0f36809ddd28",
   "metadata": {},
   "outputs": [
    {
     "name": "stdout",
     "output_type": "stream",
     "text": [
      "Sender: alice@example.com\n",
      "Recipient: bob@example.com\n",
      "Subject: Meeting Reminder\n",
      "Body: Don't forget our meeting tomorrow at 10 AM.\n",
      "Status: Not Sent\n",
      "Email sent to bob@example.com with subject 'Meeting Reminder'.\n",
      "Sender: alice@example.com\n",
      "Recipient: bob@example.com\n",
      "Subject: Meeting Reminder\n",
      "Body: Don't forget our meeting tomorrow at 10 AM.\n",
      "Status: Sent\n",
      "Email has already been sent.\n"
     ]
    }
   ],
   "source": [
    "class Email:\n",
    "    def __init__(self, sender, recipient, subject, body):\n",
    "        self.sender = sender\n",
    "        self.recipient = recipient\n",
    "        self.subject = subject\n",
    "        self.body = body\n",
    "        self.is_sent = False\n",
    "\n",
    "    def send_email(self):\n",
    "        if not self.is_sent:\n",
    "            # Simulate sending email\n",
    "            self.is_sent = True\n",
    "            print(f\"Email sent to {self.recipient} with subject '{self.subject}'.\")\n",
    "        else:\n",
    "            print(\"Email has already been sent.\")\n",
    "\n",
    "    def display_email_details(self):\n",
    "        print(f\"Sender: {self.sender}\")\n",
    "        print(f\"Recipient: {self.recipient}\")\n",
    "        print(f\"Subject: {self.subject}\")\n",
    "        print(f\"Body: {self.body}\")\n",
    "        print(f\"Status: {'Sent' if self.is_sent else 'Not Sent'}\")\n",
    "\n",
    "# Example usage:\n",
    "email = Email(\"alice@example.com\", \"bob@example.com\", \"Meeting Reminder\", \"Don't forget our meeting tomorrow at 10 AM.\")\n",
    "email.display_email_details()\n",
    "\n",
    "email.send_email()\n",
    "email.display_email_details()\n",
    "\n",
    "# Attempt to send the email again\n",
    "email.send_email()\n"
   ]
  },
  {
   "cell_type": "code",
   "execution_count": null,
   "id": "0a6f3b9b-271e-49cf-9a87-964ce17eb1bb",
   "metadata": {},
   "outputs": [],
   "source": []
  },
  {
   "cell_type": "markdown",
   "id": "6e780acd-c86e-4f85-a807-a8ed981260d1",
   "metadata": {},
   "source": [
    "### Social Media Profile Create a class representing a social media profile with attributes like username and posts. Implement methods to add posts, display posts, and search for posts by keyword."
   ]
  },
  {
   "cell_type": "code",
   "execution_count": 61,
   "id": "19ec5294-557a-4a56-a45d-33122d8208e6",
   "metadata": {},
   "outputs": [
    {
     "name": "stdout",
     "output_type": "stream",
     "text": [
      "Post added: Had a great day at the beach!\n",
      "Post added: Loving the new features on this app.\n",
      "Post added: Anyone else excited for the weekend?\n",
      "Posts by john_doe:\n",
      "1. Had a great day at the beach!\n",
      "2. Loving the new features on this app.\n",
      "3. Anyone else excited for the weekend?\n",
      "Posts containing 'beach':\n",
      "1. Had a great day at the beach!\n",
      "Posts containing 'app':\n",
      "1. Loving the new features on this app.\n",
      "No posts found containing 'holiday'.\n"
     ]
    }
   ],
   "source": [
    "class SocialMediaProfile:\n",
    "    def __init__(self, username):\n",
    "        self.username = username\n",
    "        self.posts = []\n",
    "\n",
    "    def add_post(self, content):\n",
    "        self.posts.append(content)\n",
    "        print(f\"Post added: {content}\")\n",
    "\n",
    "    def display_posts(self):\n",
    "        if not self.posts:\n",
    "            print(\"No posts to display.\")\n",
    "        else:\n",
    "            print(f\"Posts by {self.username}:\")\n",
    "            for index, post in enumerate(self.posts, start=1):\n",
    "                print(f\"{index}. {post}\")\n",
    "\n",
    "    def search_posts_by_keyword(self, keyword):\n",
    "        matching_posts = [post for post in self.posts if keyword.lower() in post.lower()]\n",
    "        if matching_posts:\n",
    "            print(f\"Posts containing '{keyword}':\")\n",
    "            for index, post in enumerate(matching_posts, start=1):\n",
    "                print(f\"{index}. {post}\")\n",
    "        else:\n",
    "            print(f\"No posts found containing '{keyword}'.\")\n",
    "\n",
    "# Example usage:\n",
    "profile = SocialMediaProfile(\"john_doe\")\n",
    "\n",
    "profile.add_post(\"Had a great day at the beach!\")\n",
    "profile.add_post(\"Loving the new features on this app.\")\n",
    "profile.add_post(\"Anyone else excited for the weekend?\")\n",
    "\n",
    "profile.display_posts()\n",
    "\n",
    "profile.search_posts_by_keyword(\"beach\")\n",
    "profile.search_posts_by_keyword(\"app\")\n",
    "profile.search_posts_by_keyword(\"holiday\")\n"
   ]
  },
  {
   "cell_type": "code",
   "execution_count": null,
   "id": "dfd83259-555f-40cc-9f32-01df1b9081c6",
   "metadata": {},
   "outputs": [],
   "source": []
  },
  {
   "cell_type": "markdown",
   "id": "0057456a-b9b3-4827-88cc-0244ba079674",
   "metadata": {},
   "source": [
    "### ToDo List Create a class representing a ToDo list with attributes like tasks and due dates. Implement methods to add tasks, mark tasks as completed, and display pending tasks."
   ]
  },
  {
   "cell_type": "code",
   "execution_count": 62,
   "id": "66117a5e-c63f-43c2-80b1-6cbc3d7fb0bb",
   "metadata": {},
   "outputs": [
    {
     "name": "stdout",
     "output_type": "stream",
     "text": [
      "Task added: Task: Buy groceries, Due Date: 2024-07-01, Status: Pending\n",
      "Task added: Task: Finish project report, Due Date: 2024-07-02, Status: Pending\n",
      "Task added: Task: Call plumber, Due Date: 2024-07-03, Status: Pending\n",
      "Pending Tasks:\n",
      "Task: Buy groceries, Due Date: 2024-07-01, Status: Pending\n",
      "Task: Finish project report, Due Date: 2024-07-02, Status: Pending\n",
      "Task: Call plumber, Due Date: 2024-07-03, Status: Pending\n",
      "Task marked as completed: Task: Finish project report, Due Date: 2024-07-02, Status: Completed\n",
      "Pending Tasks:\n",
      "Task: Buy groceries, Due Date: 2024-07-01, Status: Pending\n",
      "Task: Call plumber, Due Date: 2024-07-03, Status: Pending\n"
     ]
    }
   ],
   "source": [
    "class Task:\n",
    "    def __init__(self, description, due_date):\n",
    "        self.description = description\n",
    "        self.due_date = due_date\n",
    "        self.completed = False\n",
    "\n",
    "    def mark_as_completed(self):\n",
    "        self.completed = True\n",
    "\n",
    "    def __str__(self):\n",
    "        status = \"Completed\" if self.completed else \"Pending\"\n",
    "        return f\"Task: {self.description}, Due Date: {self.due_date}, Status: {status}\"\n",
    "\n",
    "class ToDoList:\n",
    "    def __init__(self):\n",
    "        self.tasks = []\n",
    "\n",
    "    def add_task(self, description, due_date):\n",
    "        task = Task(description, due_date)\n",
    "        self.tasks.append(task)\n",
    "        print(f\"Task added: {task}\")\n",
    "\n",
    "    def mark_task_as_completed(self, description):\n",
    "        for task in self.tasks:\n",
    "            if task.description == description and not task.completed:\n",
    "                task.mark_as_completed()\n",
    "                print(f\"Task marked as completed: {task}\")\n",
    "                return\n",
    "        print(f\"No pending task found with description: '{description}'\")\n",
    "\n",
    "    def display_pending_tasks(self):\n",
    "        pending_tasks = [task for task in self.tasks if not task.completed]\n",
    "        if not pending_tasks:\n",
    "            print(\"No pending tasks.\")\n",
    "        else:\n",
    "            print(\"Pending Tasks:\")\n",
    "            for task in pending_tasks:\n",
    "                print(task)\n",
    "\n",
    "# Example usage:\n",
    "todo_list = ToDoList()\n",
    "\n",
    "todo_list.add_task(\"Buy groceries\", \"2024-07-01\")\n",
    "todo_list.add_task(\"Finish project report\", \"2024-07-02\")\n",
    "todo_list.add_task(\"Call plumber\", \"2024-07-03\")\n",
    "\n",
    "todo_list.display_pending_tasks()\n",
    "\n",
    "todo_list.mark_task_as_completed(\"Finish project report\")\n",
    "todo_list.display_pending_tasks()\n"
   ]
  },
  {
   "cell_type": "code",
   "execution_count": null,
   "id": "a46c34cf-9b14-4f8c-918a-8f25703134af",
   "metadata": {},
   "outputs": [],
   "source": []
  }
 ],
 "metadata": {
  "kernelspec": {
   "display_name": "Python 3 (ipykernel)",
   "language": "python",
   "name": "python3"
  },
  "language_info": {
   "codemirror_mode": {
    "name": "ipython",
    "version": 3
   },
   "file_extension": ".py",
   "mimetype": "text/x-python",
   "name": "python",
   "nbconvert_exporter": "python",
   "pygments_lexer": "ipython3",
   "version": "3.10.8"
  }
 },
 "nbformat": 4,
 "nbformat_minor": 5
}
